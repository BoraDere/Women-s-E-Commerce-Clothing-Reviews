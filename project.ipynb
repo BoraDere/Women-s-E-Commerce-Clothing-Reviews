{
 "cells": [
  {
   "cell_type": "markdown",
   "metadata": {},
   "source": [
    "# AIN212 Fall 2023 Project Assignment\n",
    "Rating prediction on Women's E-Commerce Clothing Reviews dataset."
   ]
  },
  {
   "cell_type": "markdown",
   "metadata": {},
   "source": [
    "### Dataset: We will be working on Women's E-Commerce Clothing Reviews dataset from Kaggle.\n",
    "https://www.kaggle.com/datasets/nicapotato/womens-ecommerce-clothing-reviews"
   ]
  },
  {
   "cell_type": "markdown",
   "metadata": {},
   "source": [
    "* Authors : Alperen Demirci(2220765010) & Bora Dere(2220765021)\n",
    "\n",
    "* Course : AIN212 - Data Science\n",
    "\n",
    "* Emails : alperendemirci@hacettepe.edu.tr & boradere@hacettepe.edu.tr , b2220765010@cs.hacettepe.edu.tr & b2220765021@cs.hacettepe.edu.tr\n",
    "\n",
    "* Date : 28/12/2023\n",
    "\n",
    "* Description : This project is about classifying the reviews of the women who bought clothes from an online shopping site. The reviews are rated from 1 to 5, we will classify every entry into 5 bins called very bad,bad,neutral,good,very good. The dataset is explained in the next cell."
   ]
  },
  {
   "cell_type": "markdown",
   "metadata": {},
   "source": [
    "## Explaining the dataset:\n",
    "There are 11 columns in this dataset.\n",
    "- <span style=\"color: red;\">Clothing ID:</span> Integer Categorical variable that refers to the specific piece being reviewed.\n",
    "- <span style=\"color: red;\">Age:</span> Positive Integer variable of the reviewers age.\n",
    "- <span style=\"color: red;\">Title:</span> String variable for the title of the review.\n",
    "- <span style=\"color: red;\">Review Text:</span> String variable for the review body.\n",
    "- <span style=\"color: red;\">Rating:</span> Positive Ordinal Integer variable for the product score granted by the customer from 1 Worst, to 5 Best.\n",
    "- <span style=\"color: red;\">Recommended IND:</span> Binary variable stating where the customer recommends the product where 1 is recommended, 0 is not recommended.\n",
    "- <span style=\"color: red;\">Positive Feedback Count:</span> Positive Integer documenting the number of other customers who found this review positive.\n",
    "- <span style=\"color: red;\">Division Name:</span> Categorical name of the product high level division.\n",
    "- <span style=\"color: red;\">Department Name:</span> Categorical name of the product department name.\n",
    "- <span style=\"color: red;\">Class Name:</span> Categorical name of the product class name."
   ]
  },
  {
   "cell_type": "markdown",
   "metadata": {},
   "source": [
    "## Our approach:\n",
    "\n",
    "* So first we need to clean the data.(remove the null values, remove the unnecessary columns, etc.)\n",
    "* Then we need to visualize the data in order to understand it better.\n",
    "* After that we will use different classification algorithms to predict the ratings of the reviews.(Naive Bayes, Decision Tree, Random Forest, etc.)\n",
    "* We will compare the results of the algorithms and choose the best one.\n",
    "\n",
    "## Personal Thoughts and Comments:\n",
    "\n",
    "* Since our problem and data are near to SpamClassification problem, I think the fastest and most accurate algorithm will be Naive Bayes.\n",
    "* Hence we are not familiar with deep NLP concepts, we will try to solve this problem using only statistics and essences of data science. In my opinion, this will be challenging but educative for us.\n",
    "* Since our valuable column is based on strings, cleaning the data will be the most challenging part of this project."
   ]
  },
  {
   "cell_type": "markdown",
   "metadata": {},
   "source": [
    "## Imports and loading the dataset"
   ]
  },
  {
   "cell_type": "code",
   "execution_count": 192,
   "metadata": {},
   "outputs": [],
   "source": [
    "import pandas as pd\n",
    "import matplotlib.pyplot as plt\n",
    "import seaborn as sns"
   ]
  },
  {
   "cell_type": "code",
   "execution_count": 193,
   "metadata": {},
   "outputs": [],
   "source": [
    "data = pd.read_csv('Womens Clothing E-Commerce Reviews.csv')\n",
    "df = pd.DataFrame(data)"
   ]
  },
  {
   "cell_type": "code",
   "execution_count": 194,
   "metadata": {},
   "outputs": [
    {
     "data": {
      "text/html": [
       "<div>\n",
       "<style scoped>\n",
       "    .dataframe tbody tr th:only-of-type {\n",
       "        vertical-align: middle;\n",
       "    }\n",
       "\n",
       "    .dataframe tbody tr th {\n",
       "        vertical-align: top;\n",
       "    }\n",
       "\n",
       "    .dataframe thead th {\n",
       "        text-align: right;\n",
       "    }\n",
       "</style>\n",
       "<table border=\"1\" class=\"dataframe\">\n",
       "  <thead>\n",
       "    <tr style=\"text-align: right;\">\n",
       "      <th></th>\n",
       "      <th>Unnamed: 0</th>\n",
       "      <th>Clothing ID</th>\n",
       "      <th>Age</th>\n",
       "      <th>Title</th>\n",
       "      <th>Review Text</th>\n",
       "      <th>Rating</th>\n",
       "      <th>Recommended IND</th>\n",
       "      <th>Positive Feedback Count</th>\n",
       "      <th>Division Name</th>\n",
       "      <th>Department Name</th>\n",
       "      <th>Class Name</th>\n",
       "    </tr>\n",
       "  </thead>\n",
       "  <tbody>\n",
       "    <tr>\n",
       "      <th>0</th>\n",
       "      <td>0</td>\n",
       "      <td>767</td>\n",
       "      <td>33</td>\n",
       "      <td>NaN</td>\n",
       "      <td>Absolutely wonderful - silky and sexy and comf...</td>\n",
       "      <td>4</td>\n",
       "      <td>1</td>\n",
       "      <td>0</td>\n",
       "      <td>Initmates</td>\n",
       "      <td>Intimate</td>\n",
       "      <td>Intimates</td>\n",
       "    </tr>\n",
       "    <tr>\n",
       "      <th>1</th>\n",
       "      <td>1</td>\n",
       "      <td>1080</td>\n",
       "      <td>34</td>\n",
       "      <td>NaN</td>\n",
       "      <td>Love this dress!  it's sooo pretty.  i happene...</td>\n",
       "      <td>5</td>\n",
       "      <td>1</td>\n",
       "      <td>4</td>\n",
       "      <td>General</td>\n",
       "      <td>Dresses</td>\n",
       "      <td>Dresses</td>\n",
       "    </tr>\n",
       "    <tr>\n",
       "      <th>2</th>\n",
       "      <td>2</td>\n",
       "      <td>1077</td>\n",
       "      <td>60</td>\n",
       "      <td>Some major design flaws</td>\n",
       "      <td>I had such high hopes for this dress and reall...</td>\n",
       "      <td>3</td>\n",
       "      <td>0</td>\n",
       "      <td>0</td>\n",
       "      <td>General</td>\n",
       "      <td>Dresses</td>\n",
       "      <td>Dresses</td>\n",
       "    </tr>\n",
       "    <tr>\n",
       "      <th>3</th>\n",
       "      <td>3</td>\n",
       "      <td>1049</td>\n",
       "      <td>50</td>\n",
       "      <td>My favorite buy!</td>\n",
       "      <td>I love, love, love this jumpsuit. it's fun, fl...</td>\n",
       "      <td>5</td>\n",
       "      <td>1</td>\n",
       "      <td>0</td>\n",
       "      <td>General Petite</td>\n",
       "      <td>Bottoms</td>\n",
       "      <td>Pants</td>\n",
       "    </tr>\n",
       "    <tr>\n",
       "      <th>4</th>\n",
       "      <td>4</td>\n",
       "      <td>847</td>\n",
       "      <td>47</td>\n",
       "      <td>Flattering shirt</td>\n",
       "      <td>This shirt is very flattering to all due to th...</td>\n",
       "      <td>5</td>\n",
       "      <td>1</td>\n",
       "      <td>6</td>\n",
       "      <td>General</td>\n",
       "      <td>Tops</td>\n",
       "      <td>Blouses</td>\n",
       "    </tr>\n",
       "  </tbody>\n",
       "</table>\n",
       "</div>"
      ],
      "text/plain": [
       "   Unnamed: 0  Clothing ID  Age                    Title  \\\n",
       "0           0          767   33                      NaN   \n",
       "1           1         1080   34                      NaN   \n",
       "2           2         1077   60  Some major design flaws   \n",
       "3           3         1049   50         My favorite buy!   \n",
       "4           4          847   47         Flattering shirt   \n",
       "\n",
       "                                         Review Text  Rating  Recommended IND  \\\n",
       "0  Absolutely wonderful - silky and sexy and comf...       4                1   \n",
       "1  Love this dress!  it's sooo pretty.  i happene...       5                1   \n",
       "2  I had such high hopes for this dress and reall...       3                0   \n",
       "3  I love, love, love this jumpsuit. it's fun, fl...       5                1   \n",
       "4  This shirt is very flattering to all due to th...       5                1   \n",
       "\n",
       "   Positive Feedback Count   Division Name Department Name Class Name  \n",
       "0                        0       Initmates        Intimate  Intimates  \n",
       "1                        4         General         Dresses    Dresses  \n",
       "2                        0         General         Dresses    Dresses  \n",
       "3                        0  General Petite         Bottoms      Pants  \n",
       "4                        6         General            Tops    Blouses  "
      ]
     },
     "execution_count": 194,
     "metadata": {},
     "output_type": "execute_result"
    }
   ],
   "source": [
    "df.head()"
   ]
  },
  {
   "cell_type": "markdown",
   "metadata": {},
   "source": [
    "## Data Preprocessing"
   ]
  },
  {
   "cell_type": "markdown",
   "metadata": {},
   "source": [
    "First we check the numerical columns' null values.\n",
    "\n",
    "Then we check the categorical columns' null values."
   ]
  },
  {
   "cell_type": "code",
   "execution_count": 195,
   "metadata": {},
   "outputs": [
    {
     "data": {
      "text/html": [
       "<div>\n",
       "<style scoped>\n",
       "    .dataframe tbody tr th:only-of-type {\n",
       "        vertical-align: middle;\n",
       "    }\n",
       "\n",
       "    .dataframe tbody tr th {\n",
       "        vertical-align: top;\n",
       "    }\n",
       "\n",
       "    .dataframe thead th {\n",
       "        text-align: right;\n",
       "    }\n",
       "</style>\n",
       "<table border=\"1\" class=\"dataframe\">\n",
       "  <thead>\n",
       "    <tr style=\"text-align: right;\">\n",
       "      <th></th>\n",
       "      <th>count</th>\n",
       "      <th>mean</th>\n",
       "      <th>std</th>\n",
       "      <th>min</th>\n",
       "      <th>25%</th>\n",
       "      <th>50%</th>\n",
       "      <th>75%</th>\n",
       "      <th>max</th>\n",
       "    </tr>\n",
       "  </thead>\n",
       "  <tbody>\n",
       "    <tr>\n",
       "      <th>Unnamed: 0</th>\n",
       "      <td>23486.0</td>\n",
       "      <td>11742.500000</td>\n",
       "      <td>6779.968547</td>\n",
       "      <td>0.0</td>\n",
       "      <td>5871.25</td>\n",
       "      <td>11742.5</td>\n",
       "      <td>17613.75</td>\n",
       "      <td>23485.0</td>\n",
       "    </tr>\n",
       "    <tr>\n",
       "      <th>Clothing ID</th>\n",
       "      <td>23486.0</td>\n",
       "      <td>918.118709</td>\n",
       "      <td>203.298980</td>\n",
       "      <td>0.0</td>\n",
       "      <td>861.00</td>\n",
       "      <td>936.0</td>\n",
       "      <td>1078.00</td>\n",
       "      <td>1205.0</td>\n",
       "    </tr>\n",
       "    <tr>\n",
       "      <th>Age</th>\n",
       "      <td>23486.0</td>\n",
       "      <td>43.198544</td>\n",
       "      <td>12.279544</td>\n",
       "      <td>18.0</td>\n",
       "      <td>34.00</td>\n",
       "      <td>41.0</td>\n",
       "      <td>52.00</td>\n",
       "      <td>99.0</td>\n",
       "    </tr>\n",
       "    <tr>\n",
       "      <th>Rating</th>\n",
       "      <td>23486.0</td>\n",
       "      <td>4.196032</td>\n",
       "      <td>1.110031</td>\n",
       "      <td>1.0</td>\n",
       "      <td>4.00</td>\n",
       "      <td>5.0</td>\n",
       "      <td>5.00</td>\n",
       "      <td>5.0</td>\n",
       "    </tr>\n",
       "    <tr>\n",
       "      <th>Recommended IND</th>\n",
       "      <td>23486.0</td>\n",
       "      <td>0.822362</td>\n",
       "      <td>0.382216</td>\n",
       "      <td>0.0</td>\n",
       "      <td>1.00</td>\n",
       "      <td>1.0</td>\n",
       "      <td>1.00</td>\n",
       "      <td>1.0</td>\n",
       "    </tr>\n",
       "    <tr>\n",
       "      <th>Positive Feedback Count</th>\n",
       "      <td>23486.0</td>\n",
       "      <td>2.535936</td>\n",
       "      <td>5.702202</td>\n",
       "      <td>0.0</td>\n",
       "      <td>0.00</td>\n",
       "      <td>1.0</td>\n",
       "      <td>3.00</td>\n",
       "      <td>122.0</td>\n",
       "    </tr>\n",
       "  </tbody>\n",
       "</table>\n",
       "</div>"
      ],
      "text/plain": [
       "                           count          mean          std   min      25%  \\\n",
       "Unnamed: 0               23486.0  11742.500000  6779.968547   0.0  5871.25   \n",
       "Clothing ID              23486.0    918.118709   203.298980   0.0   861.00   \n",
       "Age                      23486.0     43.198544    12.279544  18.0    34.00   \n",
       "Rating                   23486.0      4.196032     1.110031   1.0     4.00   \n",
       "Recommended IND          23486.0      0.822362     0.382216   0.0     1.00   \n",
       "Positive Feedback Count  23486.0      2.535936     5.702202   0.0     0.00   \n",
       "\n",
       "                             50%       75%      max  \n",
       "Unnamed: 0               11742.5  17613.75  23485.0  \n",
       "Clothing ID                936.0   1078.00   1205.0  \n",
       "Age                         41.0     52.00     99.0  \n",
       "Rating                       5.0      5.00      5.0  \n",
       "Recommended IND              1.0      1.00      1.0  \n",
       "Positive Feedback Count      1.0      3.00    122.0  "
      ]
     },
     "execution_count": 195,
     "metadata": {},
     "output_type": "execute_result"
    }
   ],
   "source": [
    "df.describe().T"
   ]
  },
  {
   "cell_type": "markdown",
   "metadata": {},
   "source": [
    "When checked we do not see anomaly on Age column (i.e. negative values, etc.) so we can continue.\n",
    "Range column is also fine, it fits into constraints."
   ]
  },
  {
   "cell_type": "markdown",
   "metadata": {},
   "source": [
    "* Quick Note : Unnamed column is a poor attempt to create an index column. So, it is redundant.\n",
    "Also we won't use the Clothing ID column, so we will drop them both."
   ]
  },
  {
   "cell_type": "code",
   "execution_count": 196,
   "metadata": {},
   "outputs": [],
   "source": [
    "df.drop(columns='Unnamed: 0',inplace=True)\n",
    "df.drop(columns='Clothing ID',inplace=True)"
   ]
  },
  {
   "cell_type": "code",
   "execution_count": 197,
   "metadata": {},
   "outputs": [
    {
     "data": {
      "text/html": [
       "<div>\n",
       "<style scoped>\n",
       "    .dataframe tbody tr th:only-of-type {\n",
       "        vertical-align: middle;\n",
       "    }\n",
       "\n",
       "    .dataframe tbody tr th {\n",
       "        vertical-align: top;\n",
       "    }\n",
       "\n",
       "    .dataframe thead th {\n",
       "        text-align: right;\n",
       "    }\n",
       "</style>\n",
       "<table border=\"1\" class=\"dataframe\">\n",
       "  <thead>\n",
       "    <tr style=\"text-align: right;\">\n",
       "      <th></th>\n",
       "      <th>Age</th>\n",
       "      <th>Title</th>\n",
       "      <th>Review Text</th>\n",
       "      <th>Rating</th>\n",
       "      <th>Recommended IND</th>\n",
       "      <th>Positive Feedback Count</th>\n",
       "      <th>Division Name</th>\n",
       "      <th>Department Name</th>\n",
       "      <th>Class Name</th>\n",
       "    </tr>\n",
       "  </thead>\n",
       "  <tbody>\n",
       "    <tr>\n",
       "      <th>0</th>\n",
       "      <td>33</td>\n",
       "      <td>NaN</td>\n",
       "      <td>Absolutely wonderful - silky and sexy and comf...</td>\n",
       "      <td>4</td>\n",
       "      <td>1</td>\n",
       "      <td>0</td>\n",
       "      <td>Initmates</td>\n",
       "      <td>Intimate</td>\n",
       "      <td>Intimates</td>\n",
       "    </tr>\n",
       "    <tr>\n",
       "      <th>1</th>\n",
       "      <td>34</td>\n",
       "      <td>NaN</td>\n",
       "      <td>Love this dress!  it's sooo pretty.  i happene...</td>\n",
       "      <td>5</td>\n",
       "      <td>1</td>\n",
       "      <td>4</td>\n",
       "      <td>General</td>\n",
       "      <td>Dresses</td>\n",
       "      <td>Dresses</td>\n",
       "    </tr>\n",
       "    <tr>\n",
       "      <th>2</th>\n",
       "      <td>60</td>\n",
       "      <td>Some major design flaws</td>\n",
       "      <td>I had such high hopes for this dress and reall...</td>\n",
       "      <td>3</td>\n",
       "      <td>0</td>\n",
       "      <td>0</td>\n",
       "      <td>General</td>\n",
       "      <td>Dresses</td>\n",
       "      <td>Dresses</td>\n",
       "    </tr>\n",
       "    <tr>\n",
       "      <th>3</th>\n",
       "      <td>50</td>\n",
       "      <td>My favorite buy!</td>\n",
       "      <td>I love, love, love this jumpsuit. it's fun, fl...</td>\n",
       "      <td>5</td>\n",
       "      <td>1</td>\n",
       "      <td>0</td>\n",
       "      <td>General Petite</td>\n",
       "      <td>Bottoms</td>\n",
       "      <td>Pants</td>\n",
       "    </tr>\n",
       "    <tr>\n",
       "      <th>4</th>\n",
       "      <td>47</td>\n",
       "      <td>Flattering shirt</td>\n",
       "      <td>This shirt is very flattering to all due to th...</td>\n",
       "      <td>5</td>\n",
       "      <td>1</td>\n",
       "      <td>6</td>\n",
       "      <td>General</td>\n",
       "      <td>Tops</td>\n",
       "      <td>Blouses</td>\n",
       "    </tr>\n",
       "  </tbody>\n",
       "</table>\n",
       "</div>"
      ],
      "text/plain": [
       "   Age                    Title  \\\n",
       "0   33                      NaN   \n",
       "1   34                      NaN   \n",
       "2   60  Some major design flaws   \n",
       "3   50         My favorite buy!   \n",
       "4   47         Flattering shirt   \n",
       "\n",
       "                                         Review Text  Rating  Recommended IND  \\\n",
       "0  Absolutely wonderful - silky and sexy and comf...       4                1   \n",
       "1  Love this dress!  it's sooo pretty.  i happene...       5                1   \n",
       "2  I had such high hopes for this dress and reall...       3                0   \n",
       "3  I love, love, love this jumpsuit. it's fun, fl...       5                1   \n",
       "4  This shirt is very flattering to all due to th...       5                1   \n",
       "\n",
       "   Positive Feedback Count   Division Name Department Name Class Name  \n",
       "0                        0       Initmates        Intimate  Intimates  \n",
       "1                        4         General         Dresses    Dresses  \n",
       "2                        0         General         Dresses    Dresses  \n",
       "3                        0  General Petite         Bottoms      Pants  \n",
       "4                        6         General            Tops    Blouses  "
      ]
     },
     "execution_count": 197,
     "metadata": {},
     "output_type": "execute_result"
    }
   ],
   "source": [
    "df.head()"
   ]
  },
  {
   "cell_type": "code",
   "execution_count": 198,
   "metadata": {},
   "outputs": [
    {
     "data": {
      "text/plain": [
       "Age                           0\n",
       "Title                      3810\n",
       "Review Text                 845\n",
       "Rating                        0\n",
       "Recommended IND               0\n",
       "Positive Feedback Count       0\n",
       "Division Name                14\n",
       "Department Name              14\n",
       "Class Name                   14\n",
       "dtype: int64"
      ]
     },
     "execution_count": 198,
     "metadata": {},
     "output_type": "execute_result"
    }
   ],
   "source": [
    "df.isnull().sum()"
   ]
  },
  {
   "cell_type": "markdown",
   "metadata": {},
   "source": [
    "As seen we have 3810 null values in Title column. In order to solve this problem, we have concataneated the Title and Review Text columns. Then we have dropped the Review Text column.\n",
    "\n",
    "* Concatanation format is like this: Title + \" \" + Review Text"
   ]
  },
  {
   "cell_type": "markdown",
   "metadata": {},
   "source": [
    "* We did not dropped the null values in Review Text columns since a customer may just write its' review in the Title column.(Like Title = \"I love it!\" and Review Text = null)"
   ]
  },
  {
   "cell_type": "markdown",
   "metadata": {},
   "source": [
    "* For divison name, department name and class name columns, we have filled the null values with their mode values.(Mode Imputation)"
   ]
  },
  {
   "cell_type": "code",
   "execution_count": 199,
   "metadata": {},
   "outputs": [
    {
     "data": {
      "text/plain": [
       "(23486, 8)"
      ]
     },
     "execution_count": 199,
     "metadata": {},
     "output_type": "execute_result"
    }
   ],
   "source": [
    "## Code for title and review concatanation and removing null values\n",
    "df['Review Text'] = df['Review Text'].fillna('')\n",
    "df['Title'] = df['Title'].fillna('')\n",
    "df['Review'] = df['Title'] + ' ' + df['Review Text']\n",
    "df.drop(columns=['Title','Review Text'],inplace=True)\n",
    "df.head()\n",
    "df.shape"
   ]
  },
  {
   "cell_type": "code",
   "execution_count": 200,
   "metadata": {},
   "outputs": [
    {
     "data": {
      "text/plain": [
       "\"\\nWe won't use this probably. Just in case :)\\n\\n## Code for removing empty reviews\\nempty_reviews = df['Review'].apply(lambda x: x.isspace())\\ndf = df[~empty_reviews]\\ndf.shape\\n\""
      ]
     },
     "execution_count": 200,
     "metadata": {},
     "output_type": "execute_result"
    }
   ],
   "source": [
    "\"\"\"\n",
    "We won't use this probably. Just in case :)\n",
    "\n",
    "## Code for removing empty reviews\n",
    "empty_reviews = df['Review'].apply(lambda x: x.isspace())\n",
    "df = df[~empty_reviews]\n",
    "df.shape\n",
    "\"\"\""
   ]
  },
  {
   "cell_type": "code",
   "execution_count": 201,
   "metadata": {},
   "outputs": [],
   "source": [
    "## Code for imputing mode values in place of null values in division, department and class columns\n",
    "\n",
    "df['Division Name'] = df['Division Name'].fillna(df['Division Name'].mode()[0])\n",
    "df['Department Name'] = df['Department Name'].fillna(df['Department Name'].mode()[0])\n",
    "df['Class Name'] = df['Class Name'].fillna(df['Class Name'].mode()[0])"
   ]
  },
  {
   "cell_type": "markdown",
   "metadata": {},
   "source": [
    "* But hey, what about the null values in Review Text column? We have dropped them after the concatanation due to lack of information. We can not generate fake reviews :)"
   ]
  },
  {
   "cell_type": "code",
   "execution_count": 202,
   "metadata": {},
   "outputs": [
    {
     "data": {
      "text/html": [
       "<div>\n",
       "<style scoped>\n",
       "    .dataframe tbody tr th:only-of-type {\n",
       "        vertical-align: middle;\n",
       "    }\n",
       "\n",
       "    .dataframe tbody tr th {\n",
       "        vertical-align: top;\n",
       "    }\n",
       "\n",
       "    .dataframe thead th {\n",
       "        text-align: right;\n",
       "    }\n",
       "</style>\n",
       "<table border=\"1\" class=\"dataframe\">\n",
       "  <thead>\n",
       "    <tr style=\"text-align: right;\">\n",
       "      <th></th>\n",
       "      <th>Age</th>\n",
       "      <th>Rating</th>\n",
       "      <th>Recommended IND</th>\n",
       "      <th>Positive Feedback Count</th>\n",
       "      <th>Division Name</th>\n",
       "      <th>Department Name</th>\n",
       "      <th>Class Name</th>\n",
       "      <th>Review</th>\n",
       "    </tr>\n",
       "  </thead>\n",
       "  <tbody>\n",
       "    <tr>\n",
       "      <th>0</th>\n",
       "      <td>33</td>\n",
       "      <td>4</td>\n",
       "      <td>1</td>\n",
       "      <td>0</td>\n",
       "      <td>Initmates</td>\n",
       "      <td>Intimate</td>\n",
       "      <td>Intimates</td>\n",
       "      <td>Absolutely wonderful - silky and sexy and com...</td>\n",
       "    </tr>\n",
       "    <tr>\n",
       "      <th>1</th>\n",
       "      <td>34</td>\n",
       "      <td>5</td>\n",
       "      <td>1</td>\n",
       "      <td>4</td>\n",
       "      <td>General</td>\n",
       "      <td>Dresses</td>\n",
       "      <td>Dresses</td>\n",
       "      <td>Love this dress!  it's sooo pretty.  i happen...</td>\n",
       "    </tr>\n",
       "    <tr>\n",
       "      <th>2</th>\n",
       "      <td>60</td>\n",
       "      <td>3</td>\n",
       "      <td>0</td>\n",
       "      <td>0</td>\n",
       "      <td>General</td>\n",
       "      <td>Dresses</td>\n",
       "      <td>Dresses</td>\n",
       "      <td>Some major design flaws I had such high hopes ...</td>\n",
       "    </tr>\n",
       "    <tr>\n",
       "      <th>3</th>\n",
       "      <td>50</td>\n",
       "      <td>5</td>\n",
       "      <td>1</td>\n",
       "      <td>0</td>\n",
       "      <td>General Petite</td>\n",
       "      <td>Bottoms</td>\n",
       "      <td>Pants</td>\n",
       "      <td>My favorite buy! I love, love, love this jumps...</td>\n",
       "    </tr>\n",
       "    <tr>\n",
       "      <th>4</th>\n",
       "      <td>47</td>\n",
       "      <td>5</td>\n",
       "      <td>1</td>\n",
       "      <td>6</td>\n",
       "      <td>General</td>\n",
       "      <td>Tops</td>\n",
       "      <td>Blouses</td>\n",
       "      <td>Flattering shirt This shirt is very flattering...</td>\n",
       "    </tr>\n",
       "  </tbody>\n",
       "</table>\n",
       "</div>"
      ],
      "text/plain": [
       "   Age  Rating  Recommended IND  Positive Feedback Count   Division Name  \\\n",
       "0   33       4                1                        0       Initmates   \n",
       "1   34       5                1                        4         General   \n",
       "2   60       3                0                        0         General   \n",
       "3   50       5                1                        0  General Petite   \n",
       "4   47       5                1                        6         General   \n",
       "\n",
       "  Department Name Class Name  \\\n",
       "0        Intimate  Intimates   \n",
       "1         Dresses    Dresses   \n",
       "2         Dresses    Dresses   \n",
       "3         Bottoms      Pants   \n",
       "4            Tops    Blouses   \n",
       "\n",
       "                                              Review  \n",
       "0   Absolutely wonderful - silky and sexy and com...  \n",
       "1   Love this dress!  it's sooo pretty.  i happen...  \n",
       "2  Some major design flaws I had such high hopes ...  \n",
       "3  My favorite buy! I love, love, love this jumps...  \n",
       "4  Flattering shirt This shirt is very flattering...  "
      ]
     },
     "execution_count": 202,
     "metadata": {},
     "output_type": "execute_result"
    }
   ],
   "source": [
    "df.head()"
   ]
  },
  {
   "cell_type": "markdown",
   "metadata": {},
   "source": [
    "Lets' check the null values again."
   ]
  },
  {
   "cell_type": "code",
   "execution_count": 203,
   "metadata": {},
   "outputs": [
    {
     "data": {
      "text/plain": [
       "Age                        0\n",
       "Rating                     0\n",
       "Recommended IND            0\n",
       "Positive Feedback Count    0\n",
       "Division Name              0\n",
       "Department Name            0\n",
       "Class Name                 0\n",
       "Review                     0\n",
       "dtype: int64"
      ]
     },
     "execution_count": 203,
     "metadata": {},
     "output_type": "execute_result"
    }
   ],
   "source": [
    "df.isnull().sum()"
   ]
  },
  {
   "cell_type": "code",
   "execution_count": 204,
   "metadata": {},
   "outputs": [
    {
     "data": {
      "text/plain": [
       "(23486, 8)"
      ]
     },
     "execution_count": 204,
     "metadata": {},
     "output_type": "execute_result"
    }
   ],
   "source": [
    "df.shape"
   ]
  },
  {
   "cell_type": "markdown",
   "metadata": {},
   "source": [
    "Since we have 0 null values, we can continue."
   ]
  },
  {
   "cell_type": "markdown",
   "metadata": {},
   "source": [
    "## Feature Visualization"
   ]
  },
  {
   "cell_type": "markdown",
   "metadata": {},
   "source": [
    "We will plot distributions of the data in order to understand it better."
   ]
  },
  {
   "cell_type": "code",
   "execution_count": 205,
   "metadata": {},
   "outputs": [
    {
     "data": {
      "text/plain": [
       "<Figure size 1000x500 with 0 Axes>"
      ]
     },
     "metadata": {},
     "output_type": "display_data"
    },
    {
     "data": {
      "image/png": "[encoded data removed]",
      "text/plain": [
       "<Figure size 500x500 with 1 Axes>"
      ]
     },
     "metadata": {},
     "output_type": "display_data"
    },
    {
     "data": {
      "text/plain": [
       "<Figure size 1000x500 with 0 Axes>"
      ]
     },
     "metadata": {},
     "output_type": "display_data"
    },
    {
     "data": {
      "image/png": "[encoded data removed]",
      "text/plain": [
       "<Figure size 500x500 with 1 Axes>"
      ]
     },
     "metadata": {},
     "output_type": "display_data"
    },
    {
     "data": {
      "text/plain": [
       "<Figure size 1000x500 with 0 Axes>"
      ]
     },
     "metadata": {},
     "output_type": "display_data"
    },
    {
     "data": {
      "image/png": "[encoded data removed]",
      "text/plain": [
       "<Figure size 500x500 with 1 Axes>"
      ]
     },
     "metadata": {},
     "output_type": "display_data"
    },
    {
     "data": {
      "text/plain": [
       "<Figure size 1000x500 with 0 Axes>"
      ]
     },
     "metadata": {},
     "output_type": "display_data"
    },
    {
     "data": {
      "image/png": "[encoded data removed]",
      "text/plain": [
       "<Figure size 500x500 with 1 Axes>"
      ]
     },
     "metadata": {},
     "output_type": "display_data"
    }
   ],
   "source": [
    "## Plotting the distribution of every numerical column\n",
    "l_num = []\n",
    "\n",
    "for i in df.columns:\n",
    "    if df[i].dtype != 'object':\n",
    "        l_num.append(i)\n",
    "\n",
    "\n",
    "for i in l_num:\n",
    "    plt.figure(figsize=(10,5))\n",
    "    sns.displot(df[i],kde=False)\n",
    "    plt.title(i)\n",
    "    plt.show()"
   ]
  },
  {
   "cell_type": "markdown",
   "metadata": {},
   "source": [
    "* We see that Age column is noisy but it is similar to normal distribution.That's a good sign for us because we do not need to apply any transformation on it.\n",
    "\n",
    "There exist some outliers in the Age column but we will not drop them since they are not too far away from the mean.\n",
    "\n",
    "* We see that Rating column is imbalanced. Now there is a class imbalance problem we need to solve.\n"
   ]
  },
  {
   "cell_type": "code",
   "execution_count": 210,
   "metadata": {},
   "outputs": [
    {
     "data": {
      "image/png": "[encoded data removed]",
      "text/plain": [
       "<Figure size 1000x500 with 1 Axes>"
      ]
     },
     "metadata": {},
     "output_type": "display_data"
    },
    {
     "data": {
      "image/png": "[encoded data removed]",
      "text/plain": [
       "<Figure size 1000x500 with 1 Axes>"
      ]
     },
     "metadata": {},
     "output_type": "display_data"
    },
    {
     "data": {
      "image/png": "[encoded data removed]",
      "text/plain": [
       "<Figure size 1000x500 with 1 Axes>"
      ]
     },
     "metadata": {},
     "output_type": "display_data"
    }
   ],
   "source": [
    "l_cat = []\n",
    "\n",
    "for i in df.columns:\n",
    "    if df[i].dtype == 'object':\n",
    "        if i != \"Review\":\n",
    "            l_cat.append(i)\n",
    "\n",
    "for i in l_cat:\n",
    "    plt.figure(figsize=(10,5))\n",
    "    sns.countplot(df[i])\n",
    "    plt.title(i)\n",
    "    plt.show()\n"
   ]
  },
  {
   "cell_type": "markdown",
   "metadata": {},
   "source": [
    " There are some rare categories in the Class Name column (Casual bottoms,Chemises).  \n",
    "Also in the Department Name column (Trend).\n",
    "\n",
    "* We may drop them since they are not too much, we will decide it later.\n"
   ]
  },
  {
   "cell_type": "markdown",
   "metadata": {},
   "source": [
    "## Feature Engineering"
   ]
  },
  {
   "cell_type": "markdown",
   "metadata": {},
   "source": [
    "* We will check for the unique values of the columns in order to understand the data better."
   ]
  },
  {
   "cell_type": "code",
   "execution_count": 184,
   "metadata": {},
   "outputs": [
    {
     "name": "stdout",
     "output_type": "stream",
     "text": [
      "Age :  77\n",
      "Rating :  5\n",
      "Recommended IND :  2\n",
      "Positive Feedback Count :  82\n",
      "Division Name :  3\n",
      "Department Name :  6\n",
      "Class Name :  20\n",
      "Review :  22638\n"
     ]
    }
   ],
   "source": [
    "for col in df.columns:\n",
    "    print(col,\": \",df[col].nunique())"
   ]
  },
  {
   "cell_type": "markdown",
   "metadata": {},
   "source": [
    "* Recommended IND column takes only 2 values, so it is a binary column. We will convert it to 0 and 1.\n",
    "\n",
    "* Since Class Name, Department Name and Division Name columns are categorical, we will use One Hot Encoding for them. One Hot encoding because we do not want to give them any order!\n",
    "\n",
    "* Rating column is already ordinal, so we will not touch it.\n",
    "\n",
    "* Review column has 22638 values but we have 23486 rows. It is a really hard possibility to have 848 rows with the same review. By that we can say that there are some reviews that are blank. We will handle them later.\n",
    "\n",
    "* Other columns do not seem to have any problem."
   ]
  },
  {
   "cell_type": "code",
   "execution_count": 185,
   "metadata": {},
   "outputs": [],
   "source": [
    "## Code for One Hot Encoding of division, department and class columns\n",
    "\n",
    "df = pd.get_dummies(df,columns=['Division Name','Department Name','Class Name','Recommended IND'],drop_first=True)\n"
   ]
  },
  {
   "cell_type": "code",
   "execution_count": 186,
   "metadata": {},
   "outputs": [
    {
     "data": {
      "text/html": [
       "<div>\n",
       "<style scoped>\n",
       "    .dataframe tbody tr th:only-of-type {\n",
       "        vertical-align: middle;\n",
       "    }\n",
       "\n",
       "    .dataframe tbody tr th {\n",
       "        vertical-align: top;\n",
       "    }\n",
       "\n",
       "    .dataframe thead th {\n",
       "        text-align: right;\n",
       "    }\n",
       "</style>\n",
       "<table border=\"1\" class=\"dataframe\">\n",
       "  <thead>\n",
       "    <tr style=\"text-align: right;\">\n",
       "      <th></th>\n",
       "      <th>Age</th>\n",
       "      <th>Rating</th>\n",
       "      <th>Positive Feedback Count</th>\n",
       "      <th>Review</th>\n",
       "      <th>Division Name_General Petite</th>\n",
       "      <th>Division Name_Initmates</th>\n",
       "      <th>Department Name_Dresses</th>\n",
       "      <th>Department Name_Intimate</th>\n",
       "      <th>Department Name_Jackets</th>\n",
       "      <th>Department Name_Tops</th>\n",
       "      <th>...</th>\n",
       "      <th>Class Name_Lounge</th>\n",
       "      <th>Class Name_Outerwear</th>\n",
       "      <th>Class Name_Pants</th>\n",
       "      <th>Class Name_Shorts</th>\n",
       "      <th>Class Name_Skirts</th>\n",
       "      <th>Class Name_Sleep</th>\n",
       "      <th>Class Name_Sweaters</th>\n",
       "      <th>Class Name_Swim</th>\n",
       "      <th>Class Name_Trend</th>\n",
       "      <th>Recommended IND_1</th>\n",
       "    </tr>\n",
       "  </thead>\n",
       "  <tbody>\n",
       "    <tr>\n",
       "      <th>0</th>\n",
       "      <td>33</td>\n",
       "      <td>4</td>\n",
       "      <td>0</td>\n",
       "      <td>Absolutely wonderful - silky and sexy and com...</td>\n",
       "      <td>False</td>\n",
       "      <td>True</td>\n",
       "      <td>False</td>\n",
       "      <td>True</td>\n",
       "      <td>False</td>\n",
       "      <td>False</td>\n",
       "      <td>...</td>\n",
       "      <td>False</td>\n",
       "      <td>False</td>\n",
       "      <td>False</td>\n",
       "      <td>False</td>\n",
       "      <td>False</td>\n",
       "      <td>False</td>\n",
       "      <td>False</td>\n",
       "      <td>False</td>\n",
       "      <td>False</td>\n",
       "      <td>True</td>\n",
       "    </tr>\n",
       "    <tr>\n",
       "      <th>1</th>\n",
       "      <td>34</td>\n",
       "      <td>5</td>\n",
       "      <td>4</td>\n",
       "      <td>Love this dress!  it's sooo pretty.  i happen...</td>\n",
       "      <td>False</td>\n",
       "      <td>False</td>\n",
       "      <td>True</td>\n",
       "      <td>False</td>\n",
       "      <td>False</td>\n",
       "      <td>False</td>\n",
       "      <td>...</td>\n",
       "      <td>False</td>\n",
       "      <td>False</td>\n",
       "      <td>False</td>\n",
       "      <td>False</td>\n",
       "      <td>False</td>\n",
       "      <td>False</td>\n",
       "      <td>False</td>\n",
       "      <td>False</td>\n",
       "      <td>False</td>\n",
       "      <td>True</td>\n",
       "    </tr>\n",
       "    <tr>\n",
       "      <th>2</th>\n",
       "      <td>60</td>\n",
       "      <td>3</td>\n",
       "      <td>0</td>\n",
       "      <td>Some major design flaws I had such high hopes ...</td>\n",
       "      <td>False</td>\n",
       "      <td>False</td>\n",
       "      <td>True</td>\n",
       "      <td>False</td>\n",
       "      <td>False</td>\n",
       "      <td>False</td>\n",
       "      <td>...</td>\n",
       "      <td>False</td>\n",
       "      <td>False</td>\n",
       "      <td>False</td>\n",
       "      <td>False</td>\n",
       "      <td>False</td>\n",
       "      <td>False</td>\n",
       "      <td>False</td>\n",
       "      <td>False</td>\n",
       "      <td>False</td>\n",
       "      <td>False</td>\n",
       "    </tr>\n",
       "    <tr>\n",
       "      <th>3</th>\n",
       "      <td>50</td>\n",
       "      <td>5</td>\n",
       "      <td>0</td>\n",
       "      <td>My favorite buy! I love, love, love this jumps...</td>\n",
       "      <td>True</td>\n",
       "      <td>False</td>\n",
       "      <td>False</td>\n",
       "      <td>False</td>\n",
       "      <td>False</td>\n",
       "      <td>False</td>\n",
       "      <td>...</td>\n",
       "      <td>False</td>\n",
       "      <td>False</td>\n",
       "      <td>True</td>\n",
       "      <td>False</td>\n",
       "      <td>False</td>\n",
       "      <td>False</td>\n",
       "      <td>False</td>\n",
       "      <td>False</td>\n",
       "      <td>False</td>\n",
       "      <td>True</td>\n",
       "    </tr>\n",
       "    <tr>\n",
       "      <th>4</th>\n",
       "      <td>47</td>\n",
       "      <td>5</td>\n",
       "      <td>6</td>\n",
       "      <td>Flattering shirt This shirt is very flattering...</td>\n",
       "      <td>False</td>\n",
       "      <td>False</td>\n",
       "      <td>False</td>\n",
       "      <td>False</td>\n",
       "      <td>False</td>\n",
       "      <td>True</td>\n",
       "      <td>...</td>\n",
       "      <td>False</td>\n",
       "      <td>False</td>\n",
       "      <td>False</td>\n",
       "      <td>False</td>\n",
       "      <td>False</td>\n",
       "      <td>False</td>\n",
       "      <td>False</td>\n",
       "      <td>False</td>\n",
       "      <td>False</td>\n",
       "      <td>True</td>\n",
       "    </tr>\n",
       "  </tbody>\n",
       "</table>\n",
       "<p>5 rows × 31 columns</p>\n",
       "</div>"
      ],
      "text/plain": [
       "   Age  Rating  Positive Feedback Count  \\\n",
       "0   33       4                        0   \n",
       "1   34       5                        4   \n",
       "2   60       3                        0   \n",
       "3   50       5                        0   \n",
       "4   47       5                        6   \n",
       "\n",
       "                                              Review  \\\n",
       "0   Absolutely wonderful - silky and sexy and com...   \n",
       "1   Love this dress!  it's sooo pretty.  i happen...   \n",
       "2  Some major design flaws I had such high hopes ...   \n",
       "3  My favorite buy! I love, love, love this jumps...   \n",
       "4  Flattering shirt This shirt is very flattering...   \n",
       "\n",
       "   Division Name_General Petite  Division Name_Initmates  \\\n",
       "0                         False                     True   \n",
       "1                         False                    False   \n",
       "2                         False                    False   \n",
       "3                          True                    False   \n",
       "4                         False                    False   \n",
       "\n",
       "   Department Name_Dresses  Department Name_Intimate  Department Name_Jackets  \\\n",
       "0                    False                      True                    False   \n",
       "1                     True                     False                    False   \n",
       "2                     True                     False                    False   \n",
       "3                    False                     False                    False   \n",
       "4                    False                     False                    False   \n",
       "\n",
       "   Department Name_Tops  ...  Class Name_Lounge  Class Name_Outerwear  \\\n",
       "0                 False  ...              False                 False   \n",
       "1                 False  ...              False                 False   \n",
       "2                 False  ...              False                 False   \n",
       "3                 False  ...              False                 False   \n",
       "4                  True  ...              False                 False   \n",
       "\n",
       "   Class Name_Pants  Class Name_Shorts  Class Name_Skirts  Class Name_Sleep  \\\n",
       "0             False              False              False             False   \n",
       "1             False              False              False             False   \n",
       "2             False              False              False             False   \n",
       "3              True              False              False             False   \n",
       "4             False              False              False             False   \n",
       "\n",
       "   Class Name_Sweaters  Class Name_Swim  Class Name_Trend  Recommended IND_1  \n",
       "0                False            False             False               True  \n",
       "1                False            False             False               True  \n",
       "2                False            False             False              False  \n",
       "3                False            False             False               True  \n",
       "4                False            False             False               True  \n",
       "\n",
       "[5 rows x 31 columns]"
      ]
     },
     "execution_count": 186,
     "metadata": {},
     "output_type": "execute_result"
    }
   ],
   "source": [
    "df.head()"
   ]
  },
  {
   "cell_type": "code",
   "execution_count": 187,
   "metadata": {},
   "outputs": [
    {
     "data": {
      "text/plain": [
       "Index(['Age', 'Rating', 'Positive Feedback Count', 'Review',\n",
       "       'Division Name_General Petite', 'Division Name_Initmates',\n",
       "       'Department Name_Dresses', 'Department Name_Intimate',\n",
       "       'Department Name_Jackets', 'Department Name_Tops',\n",
       "       'Department Name_Trend', 'Class Name_Casual bottoms',\n",
       "       'Class Name_Chemises', 'Class Name_Dresses', 'Class Name_Fine gauge',\n",
       "       'Class Name_Intimates', 'Class Name_Jackets', 'Class Name_Jeans',\n",
       "       'Class Name_Knits', 'Class Name_Layering', 'Class Name_Legwear',\n",
       "       'Class Name_Lounge', 'Class Name_Outerwear', 'Class Name_Pants',\n",
       "       'Class Name_Shorts', 'Class Name_Skirts', 'Class Name_Sleep',\n",
       "       'Class Name_Sweaters', 'Class Name_Swim', 'Class Name_Trend',\n",
       "       'Recommended IND_1'],\n",
       "      dtype='object')"
      ]
     },
     "execution_count": 187,
     "metadata": {},
     "output_type": "execute_result"
    }
   ],
   "source": [
    "df.columns"
   ]
  },
  {
   "cell_type": "markdown",
   "metadata": {},
   "source": [
    "<span style=\"color: cyan;\">Diyorum ki title ile review texti birleştirelim. Format şu şekilde (title): (content) olsun. Bu şekilde boş olanları atmamış hem de null bir column a çözüm getirmiş oluruz. Ayrıca divison ve department name zaten kategorik (biri 3 diğeri 6 unique içeriyo) bu yüzden atmak yerine oneHotEncoding yapalım ayrıca feature sayısı da artar. Evet Naive Bayes çok mantıklı çünkü yaptığımız şey spam classfier'a benziyor bu da Naive Bayes'in iyi olduğu konu hatta aynı metotla yapıyoruz. \n",
    "</span>"
   ]
  },
  {
   "cell_type": "code",
   "execution_count": 134,
   "metadata": {},
   "outputs": [
    {
     "data": {
      "text/html": [
       "<div>\n",
       "<style scoped>\n",
       "    .dataframe tbody tr th:only-of-type {\n",
       "        vertical-align: middle;\n",
       "    }\n",
       "\n",
       "    .dataframe tbody tr th {\n",
       "        vertical-align: top;\n",
       "    }\n",
       "\n",
       "    .dataframe thead th {\n",
       "        text-align: right;\n",
       "    }\n",
       "</style>\n",
       "<table border=\"1\" class=\"dataframe\">\n",
       "  <thead>\n",
       "    <tr style=\"text-align: right;\">\n",
       "      <th></th>\n",
       "      <th>0</th>\n",
       "    </tr>\n",
       "  </thead>\n",
       "  <tbody>\n",
       "    <tr>\n",
       "      <th>0</th>\n",
       "      <td>(0, 2)\\t1.0\\n  (0, 5)\\t1.0\\n  (0, 14)\\t1.0</td>\n",
       "    </tr>\n",
       "    <tr>\n",
       "      <th>1</th>\n",
       "      <td>(0, 0)\\t1.0\\n  (0, 4)\\t1.0\\n  (0, 12)\\t1.0</td>\n",
       "    </tr>\n",
       "    <tr>\n",
       "      <th>2</th>\n",
       "      <td>(0, 0)\\t1.0\\n  (0, 4)\\t1.0\\n  (0, 12)\\t1.0</td>\n",
       "    </tr>\n",
       "    <tr>\n",
       "      <th>3</th>\n",
       "      <td>(0, 1)\\t1.0\\n  (0, 3)\\t1.0\\n  (0, 22)\\t1.0</td>\n",
       "    </tr>\n",
       "    <tr>\n",
       "      <th>4</th>\n",
       "      <td>(0, 0)\\t1.0\\n  (0, 7)\\t1.0\\n  (0, 9)\\t1.0</td>\n",
       "    </tr>\n",
       "    <tr>\n",
       "      <th>...</th>\n",
       "      <td>...</td>\n",
       "    </tr>\n",
       "    <tr>\n",
       "      <th>23481</th>\n",
       "      <td>(0, 1)\\t1.0\\n  (0, 4)\\t1.0\\n  (0, 12)\\t1.0</td>\n",
       "    </tr>\n",
       "    <tr>\n",
       "      <th>23482</th>\n",
       "      <td>(0, 1)\\t1.0\\n  (0, 7)\\t1.0\\n  (0, 17)\\t1.0</td>\n",
       "    </tr>\n",
       "    <tr>\n",
       "      <th>23483</th>\n",
       "      <td>(0, 1)\\t1.0\\n  (0, 4)\\t1.0\\n  (0, 12)\\t1.0</td>\n",
       "    </tr>\n",
       "    <tr>\n",
       "      <th>23484</th>\n",
       "      <td>(0, 0)\\t1.0\\n  (0, 4)\\t1.0\\n  (0, 12)\\t1.0</td>\n",
       "    </tr>\n",
       "    <tr>\n",
       "      <th>23485</th>\n",
       "      <td>(0, 1)\\t1.0\\n  (0, 4)\\t1.0\\n  (0, 12)\\t1.0</td>\n",
       "    </tr>\n",
       "  </tbody>\n",
       "</table>\n",
       "<p>23486 rows × 1 columns</p>\n",
       "</div>"
      ],
      "text/plain": [
       "                                                  0\n",
       "0        (0, 2)\\t1.0\\n  (0, 5)\\t1.0\\n  (0, 14)\\t1.0\n",
       "1        (0, 0)\\t1.0\\n  (0, 4)\\t1.0\\n  (0, 12)\\t1.0\n",
       "2        (0, 0)\\t1.0\\n  (0, 4)\\t1.0\\n  (0, 12)\\t1.0\n",
       "3        (0, 1)\\t1.0\\n  (0, 3)\\t1.0\\n  (0, 22)\\t1.0\n",
       "4         (0, 0)\\t1.0\\n  (0, 7)\\t1.0\\n  (0, 9)\\t1.0\n",
       "...                                             ...\n",
       "23481    (0, 1)\\t1.0\\n  (0, 4)\\t1.0\\n  (0, 12)\\t1.0\n",
       "23482    (0, 1)\\t1.0\\n  (0, 7)\\t1.0\\n  (0, 17)\\t1.0\n",
       "23483    (0, 1)\\t1.0\\n  (0, 4)\\t1.0\\n  (0, 12)\\t1.0\n",
       "23484    (0, 0)\\t1.0\\n  (0, 4)\\t1.0\\n  (0, 12)\\t1.0\n",
       "23485    (0, 1)\\t1.0\\n  (0, 4)\\t1.0\\n  (0, 12)\\t1.0\n",
       "\n",
       "[23486 rows x 1 columns]"
      ]
     },
     "execution_count": 134,
     "metadata": {},
     "output_type": "execute_result"
    }
   ],
   "source": []
  },
  {
   "cell_type": "markdown",
   "metadata": {},
   "source": [
    "<span style=\"color: yellow;\">kanka division, department name falan gereksiz deyip atabiliriz başta da. burdan sonrası zaten train test split ve prediction falan. gpt abim MultinomialNB ile falan yaparsınız dedi ben yemeğe iniyom bakılır ona</span>"
   ]
  },
  {
   "cell_type": "code",
   "execution_count": null,
   "metadata": {},
   "outputs": [],
   "source": []
  }
 ],
 "metadata": {
  "kernelspec": {
   "display_name": "Python 3",
   "language": "python",
   "name": "python3"
  },
  "language_info": {
   "codemirror_mode": {
    "name": "ipython",
    "version": 3
   },
   "file_extension": ".py",
   "mimetype": "text/x-python",
   "name": "python",
   "nbconvert_exporter": "python",
   "pygments_lexer": "ipython3",
   "version": "3.12.0"
  }
 },
 "nbformat": 4,
 "nbformat_minor": 2
}
