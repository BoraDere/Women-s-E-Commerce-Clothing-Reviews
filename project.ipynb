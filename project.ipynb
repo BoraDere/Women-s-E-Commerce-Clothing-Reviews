{
 "cells": [
  {
   "cell_type": "markdown",
   "metadata": {},
   "source": [
    "# Dataset: We will be working on Women's E-Commerce Clothing Reviews dataset from Kaggle.\n",
    "https://www.kaggle.com/datasets/nicapotato/womens-ecommerce-clothing-reviews"
   ]
  },
  {
   "cell_type": "markdown",
   "metadata": {},
   "source": [
    "## Explaining the dataset:\n",
    "There are 11 columns in this dataset.\n",
    "- <span style=\"color: red;\">Clothing ID:</span> Integer Categorical variable that refers to the specific piece being reviewed.\n",
    "- <span style=\"color: red;\">Age:</span> Positive Integer variable of the reviewers age.\n",
    "- <span style=\"color: red;\">Title:</span> String variable for the title of the review.\n",
    "- <span style=\"color: red;\">Review Text:</span> String variable for the review body.\n",
    "- <span style=\"color: red;\">Rating:</span> Positive Ordinal Integer variable for the product score granted by the customer from 1 Worst, to 5 Best.\n",
    "- <span style=\"color: red;\">Recommended IND:</span> Binary variable stating where the customer recommends the product where 1 is recommended, 0 is not recommended.\n",
    "- <span style=\"color: red;\">Positive Feedback Count:</span> Positive Integer documenting the number of other customers who found this review positive.\n",
    "- <span style=\"color: red;\">Division Name:</span> Categorical name of the product high level division.\n",
    "- <span style=\"color: red;\">Department Name:</span> Categorical name of the product department name.\n",
    "- <span style=\"color: red;\">Class Name:</span> Categorical name of the product class name."
   ]
  }
 ],
 "metadata": {
  "language_info": {
   "name": "python"
  }
 },
 "nbformat": 4,
 "nbformat_minor": 2
}
